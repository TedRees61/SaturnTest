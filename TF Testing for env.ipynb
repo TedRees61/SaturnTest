{
 "cells": [
  {
   "cell_type": "code",
   "execution_count": 1,
   "id": "867fbcc5",
   "metadata": {},
   "outputs": [
    {
     "ename": "SyntaxError",
     "evalue": "invalid character '–' (U+2013) (2982587100.py, line 5)",
     "output_type": "error",
     "traceback": [
      "\u001b[0;36m  Input \u001b[0;32mIn [1]\u001b[0;36m\u001b[0m\n\u001b[0;31m    xx, yy = np.meshgrid(np.linspace(–3, 3, 500),\u001b[0m\n\u001b[0m                                     ^\u001b[0m\n\u001b[0;31mSyntaxError\u001b[0m\u001b[0;31m:\u001b[0m invalid character '–' (U+2013)\n"
     ]
    }
   ],
   "source": [
    "import numpy as np\n",
    "import matplotlib.pyplot as plt\n",
    "from sklearn import svm\n",
    " \n",
    "xx, yy = np.meshgrid(np.linspace(–3, 3, 500), \n",
    "                     np.linspace(–3, 3, 500))\n",
    "np.random.seed(0)\n",
    "X = np.random.randn(300, 2)\n",
    "Y = np.logical_xor(X[:, 0] > 0, X[:, 1] > 0)\n",
    " \n",
    "# fit the model\n",
    "clf = svm.NuSVC(gamma=“auto”)\n",
    "clf.fit(X, Y)\n",
    " \n",
    "# plot the decision function for each datapoint on the grid\n",
    "Z = clf.decision_function(np.c_[xx.ravel(), yy.ravel()])\n",
    "Z = Z.reshape(xx.shape)\n",
    " \n",
    "plt.imshow(\n",
    "    Z,\n",
    "    interpolation=“nearest”,\n",
    "    extent=(xx.min(), xx.max(), yy.min(), yy.max()),\n",
    "    aspect=“auto”,\n",
    "    origin=“lower”,\n",
    "    cmap=plt.cm.PuOr_r,\n",
    ")\n",
    "contours = plt.contour(xx, yy, Z, levels=[0], \n",
    "                       linewidths=2, linestyles=“dashed”)\n",
    "plt.scatter(X[:, 0], X[:, 1], s=30, c=Y, \n",
    "            cmap=plt.cm.Paired, edgecolors=“k”)\n",
    "plt.xticks(())\n",
    "plt.yticks(())\n",
    "plt.axis([–3, 3, –3, 3])\n",
    "plt.show()"
   ]
  },
  {
   "cell_type": "code",
   "execution_count": 5,
   "id": "9efef1a2",
   "metadata": {},
   "outputs": [
    {
     "name": "stdout",
     "output_type": "stream",
     "text": [
      "Collecting package metadata (current_repodata.json): done\n",
      "Solving environment: failed with initial frozen solve. Retrying with flexible solve.\n",
      "Collecting package metadata (repodata.json): done\n",
      "Solving environment: failed with initial frozen solve. Retrying with flexible solve.\n",
      "\n",
      "PackagesNotFoundError: The following packages are not available from current channels:\n",
      "\n",
      "  - sklearn\n",
      "\n",
      "Current channels:\n",
      "\n",
      "  - https://repo.anaconda.com/pkgs/main/osx-arm64\n",
      "  - https://repo.anaconda.com/pkgs/main/noarch\n",
      "  - https://repo.anaconda.com/pkgs/r/osx-arm64\n",
      "  - https://repo.anaconda.com/pkgs/r/noarch\n",
      "\n",
      "To search for alternate channels that may provide the conda package you're\n",
      "looking for, navigate to\n",
      "\n",
      "    https://anaconda.org\n",
      "\n",
      "and use the search bar at the top of the page.\n",
      "\n",
      "\n",
      "\n",
      "Note: you may need to restart the kernel to use updated packages.\n"
     ]
    }
   ],
   "source": [
    "conda install sklearn"
   ]
  },
  {
   "cell_type": "code",
   "execution_count": 4,
   "id": "83698d52",
   "metadata": {},
   "outputs": [
    {
     "ename": "ModuleNotFoundError",
     "evalue": "No module named 'sklearn'",
     "output_type": "error",
     "traceback": [
      "\u001b[0;31m---------------------------------------------------------------------------\u001b[0m",
      "\u001b[0;31mModuleNotFoundError\u001b[0m                       Traceback (most recent call last)",
      "Input \u001b[0;32mIn [4]\u001b[0m, in \u001b[0;36m<cell line: 10>\u001b[0;34m()\u001b[0m\n\u001b[1;32m      8\u001b[0m \u001b[38;5;28;01mimport\u001b[39;00m \u001b[38;5;21;01mnumpy\u001b[39;00m \u001b[38;5;28;01mas\u001b[39;00m \u001b[38;5;21;01mnp\u001b[39;00m\n\u001b[1;32m      9\u001b[0m \u001b[38;5;28;01mimport\u001b[39;00m \u001b[38;5;21;01mmatplotlib\u001b[39;00m\u001b[38;5;21;01m.\u001b[39;00m\u001b[38;5;21;01mpyplot\u001b[39;00m \u001b[38;5;28;01mas\u001b[39;00m \u001b[38;5;21;01mplt\u001b[39;00m\n\u001b[0;32m---> 10\u001b[0m \u001b[38;5;28;01mfrom\u001b[39;00m \u001b[38;5;21;01msklearn\u001b[39;00m \u001b[38;5;28;01mimport\u001b[39;00m svm\n\u001b[1;32m     11\u001b[0m m3\u001b[38;5;241m=\u001b[39m\u001b[38;5;241m-\u001b[39m\u001b[38;5;241m3\u001b[39m \n\u001b[1;32m     12\u001b[0m xx, yy \u001b[38;5;241m=\u001b[39m np\u001b[38;5;241m.\u001b[39mmeshgrid(np\u001b[38;5;241m.\u001b[39mlinspace(m3, \u001b[38;5;241m3\u001b[39m, \u001b[38;5;241m500\u001b[39m), np\u001b[38;5;241m.\u001b[39mlinspace(m3, \u001b[38;5;241m3\u001b[39m, \u001b[38;5;241m500\u001b[39m))\n",
      "\u001b[0;31mModuleNotFoundError\u001b[0m: No module named 'sklearn'"
     ]
    }
   ],
   "source": [
    "# -*- coding: utf-8 -*-\n",
    "\"\"\"\n",
    "Spyder Editor\n",
    "\n",
    "This is a temporary script file.\n",
    "\"\"\"\n",
    "\n",
    "import numpy as np\n",
    "import matplotlib.pyplot as plt\n",
    "from sklearn import svm\n",
    "m3=-3 \n",
    "xx, yy = np.meshgrid(np.linspace(m3, 3, 500), np.linspace(m3, 3, 500))\n",
    "                     \n",
    "np.random.seed(0)\n",
    "X = np.random.randn(300, 2)\n",
    "Y = np.logical_xor(X[:, 0] > 0, X[:, 1] > 0)\n",
    "auto=\"auto\"\n",
    "nearest=\"nearest\"\n",
    "lower=\"lower\"\n",
    "dashed=\"dashed\"\n",
    "k=\"k\"\n",
    "# fit the model\n",
    "clf = svm.NuSVC(gamma=auto)\n",
    "clf.fit(X, Y)\n",
    " \n",
    "# plot the decision function for each datapoint on the grid\n",
    "Z = clf.decision_function(np.c_[xx.ravel(), yy.ravel()])\n",
    "Z = Z.reshape(xx.shape)\n",
    " \n",
    "plt.imshow(\n",
    "    Z,\n",
    "    interpolation=nearest,\n",
    "    extent=(xx.min(), xx.max(), yy.min(), yy.max()),\n",
    "    aspect=auto,\n",
    "    origin=lower,\n",
    "    cmap=plt.cm.PuOr_r,\n",
    ")\n",
    "contours = plt.contour(xx, yy, Z, levels=[0], \n",
    "                       linewidths=2, linestyles=dashed)\n",
    "plt.scatter(X[:, 0], X[:, 1], s=30, c=Y, \n",
    "            cmap=plt.cm.Paired, edgecolors=k)\n",
    "plt.xticks(())\n",
    "plt.yticks(())\n",
    "plt.axis([m3, 3,m3, 3])\n",
    "plt.show()"
   ]
  },
  {
   "cell_type": "code",
   "execution_count": 4,
   "id": "bbab8d77",
   "metadata": {},
   "outputs": [
    {
     "name": "stdout",
     "output_type": "stream",
     "text": [
      "# conda environments:\r\n",
      "#\r\n",
      "                         /Users/tedrees/miniforge3\r\n",
      "                         /Users/tedrees/miniforge3/envs/TedEnv_full\r\n",
      "                      *  /Users/tedrees/miniforge3/envs/env_tf\r\n",
      "base                     /Users/tedrees/opt/anaconda3\r\n",
      "avocado                  /Users/tedrees/opt/anaconda3/envs/avocado\r\n",
      "tensorflow               /Users/tedrees/opt/anaconda3/envs/tensorflow\r\n",
      "\r\n"
     ]
    }
   ],
   "source": [
    "!conda env list"
   ]
  },
  {
   "cell_type": "code",
   "execution_count": null,
   "id": "713770d7",
   "metadata": {},
   "outputs": [
    {
     "name": "stdout",
     "output_type": "stream",
     "text": [
      "Collecting package metadata (current_repodata.json): done\n",
      "Solving environment: done\n",
      "\n",
      "## Package Plan ##\n",
      "\n",
      "  environment location: /Users/tedrees/opt/anaconda3/envs/tensorflow\n",
      "\n",
      "  added / updated specs:\n",
      "    - numpy\n",
      "\n",
      "\n",
      "The following packages will be UPDATED:\n",
      "\n",
      "  sqlite                                  3.39.0-h707629a_0 --> 3.39.2-h707629a_0\n",
      "\n",
      "\n",
      "Proceed ([y]/n)? "
     ]
    }
   ],
   "source": [
    "!conda update numpy"
   ]
  },
  {
   "cell_type": "code",
   "execution_count": 9,
   "id": "3ca93758",
   "metadata": {},
   "outputs": [
    {
     "ename": "ImportError",
     "evalue": "cannot import name 'version' from 'importlib_metadata' (unknown location)",
     "output_type": "error",
     "traceback": [
      "\u001b[0;31m---------------------------------------------------------------------------\u001b[0m",
      "\u001b[0;31mImportError\u001b[0m                               Traceback (most recent call last)",
      "Input \u001b[0;32mIn [9]\u001b[0m, in \u001b[0;36m<cell line: 1>\u001b[0;34m()\u001b[0m\n\u001b[0;32m----> 1\u001b[0m \u001b[38;5;28;01mfrom\u001b[39;00m \u001b[38;5;21;01mimportlib_metadata\u001b[39;00m \u001b[38;5;28;01mimport\u001b[39;00m version\n\u001b[1;32m      2\u001b[0m \u001b[38;5;28mprint\u001b[39m(version(\u001b[38;5;124m'\u001b[39m\u001b[38;5;124mnumpy\u001b[39m\u001b[38;5;124m'\u001b[39m))\n",
      "\u001b[0;31mImportError\u001b[0m: cannot import name 'version' from 'importlib_metadata' (unknown location)"
     ]
    }
   ],
   "source": [
    "from importlib_metadata import version\n",
    "print(version('numpy'))\n"
   ]
  },
  {
   "cell_type": "code",
   "execution_count": 10,
   "id": "16cece0b",
   "metadata": {},
   "outputs": [
    {
     "name": "stdout",
     "output_type": "stream",
     "text": [
      "1.21.5\n"
     ]
    }
   ],
   "source": [
    "import pkg_resources\n",
    "print(pkg_resources.get_distribution('numpy').version)"
   ]
  },
  {
   "cell_type": "code",
   "execution_count": 8,
   "id": "b03cc9ad",
   "metadata": {},
   "outputs": [
    {
     "name": "stdout",
     "output_type": "stream",
     "text": [
      "Collecting package metadata (current_repodata.json): done\n",
      "Solving environment: done\n",
      "\n",
      "# All requested packages already installed.\n",
      "\n",
      "\n",
      "Note: you may need to restart the kernel to use updated packages.\n"
     ]
    }
   ],
   "source": [
    "conda update python"
   ]
  },
  {
   "cell_type": "code",
   "execution_count": 11,
   "id": "8fb98b6f",
   "metadata": {},
   "outputs": [
    {
     "name": "stdout",
     "output_type": "stream",
     "text": [
      "# packages in environment at /Users/tedrees/miniforge3/envs/env_tf:\r\n",
      "#\r\n",
      "# Name                    Version                   Build  Channel\r\n",
      "absl-py                   1.2.0                    pypi_0    pypi\r\n",
      "anyio                     3.5.0            py39hca03da5_0  \r\n",
      "appnope                   0.1.2           py39hca03da5_1001  \r\n",
      "argon2-cffi               21.3.0             pyhd3eb1b0_0  \r\n",
      "argon2-cffi-bindings      21.2.0           py39h1a28f6b_0  \r\n",
      "asttokens                 2.0.5              pyhd3eb1b0_0  \r\n",
      "astunparse                1.6.3                    pypi_0    pypi\r\n",
      "attrs                     21.4.0             pyhd3eb1b0_0  \r\n",
      "babel                     2.9.1              pyhd3eb1b0_0  \r\n",
      "backcall                  0.2.0              pyhd3eb1b0_0  \r\n",
      "beautifulsoup4            4.11.1           py39hca03da5_0  \r\n",
      "blas                      2.115                  openblas    conda-forge\r\n",
      "blas-devel                3.9.0           15_osxarm64_openblas    conda-forge\r\n",
      "bleach                    4.1.0              pyhd3eb1b0_0  \r\n",
      "brotli                    1.0.9                h1a28f6b_7  \r\n",
      "brotli-bin                1.0.9                h1a28f6b_7  \r\n",
      "brotlipy                  0.7.0           py39h1a28f6b_1002  \r\n",
      "c-ares                    1.18.1               h1a28f6b_0  \r\n",
      "ca-certificates           2022.07.19           hca03da5_0  \r\n",
      "cachetools                5.2.0                    pypi_0    pypi\r\n",
      "certifi                   2022.6.15        py39hca03da5_0  \r\n",
      "cffi                      1.15.1           py39h22df2f2_0  \r\n",
      "charset-normalizer        2.0.4              pyhd3eb1b0_0  \r\n",
      "cryptography              37.0.1           py39h834c97f_0  \r\n",
      "cycler                    0.11.0             pyhd3eb1b0_0  \r\n",
      "debugpy                   1.5.1            py39hc377ac9_0  \r\n",
      "decorator                 5.1.1              pyhd3eb1b0_0  \r\n",
      "defusedxml                0.7.1              pyhd3eb1b0_0  \r\n",
      "entrypoints               0.4              py39hca03da5_0  \r\n",
      "executing                 0.8.3              pyhd3eb1b0_0  \r\n",
      "flatbuffers               1.12                     pypi_0    pypi\r\n",
      "fonttools                 4.25.0             pyhd3eb1b0_0  \r\n",
      "freetype                  2.11.0               h1192e45_0  \r\n",
      "gast                      0.4.0                    pypi_0    pypi\r\n",
      "giflib                    5.2.1                h1a28f6b_0  \r\n",
      "google-auth               2.9.1                    pypi_0    pypi\r\n",
      "google-auth-oauthlib      0.4.6                    pypi_0    pypi\r\n",
      "google-pasta              0.2.0                    pypi_0    pypi\r\n",
      "grpcio                    1.42.0           py39h95c9599_0  \r\n",
      "h5py                      3.6.0            py39h7fe8675_0  \r\n",
      "hdf5                      1.12.1               h160e8cb_2  \r\n",
      "idna                      3.3                pyhd3eb1b0_0  \r\n",
      "importlib-metadata        4.12.0                   pypi_0    pypi\r\n",
      "ipykernel                 6.9.1            py39hca03da5_0  \r\n",
      "ipython                   8.4.0            py39hca03da5_0  \r\n",
      "ipython_genutils          0.2.0              pyhd3eb1b0_1  \r\n",
      "ipywidgets                7.6.5              pyhd3eb1b0_1  \r\n",
      "jedi                      0.18.1           py39hca03da5_1  \r\n",
      "jinja2                    3.0.3              pyhd3eb1b0_0  \r\n",
      "jpeg                      9e                   h1a28f6b_0  \r\n",
      "json5                     0.9.6              pyhd3eb1b0_0  \r\n",
      "jsonschema                4.4.0            py39hca03da5_0  \r\n",
      "jupyter                   1.0.0            py39h2804cbe_6    conda-forge\r\n",
      "jupyter_client            7.2.2            py39hca03da5_0  \r\n",
      "jupyter_console           6.4.3              pyhd3eb1b0_0  \r\n",
      "jupyter_core              4.10.0           py39hca03da5_0  \r\n",
      "jupyter_server            1.18.1           py39hca03da5_0  \r\n",
      "jupyterlab                3.4.4              pyhd8ed1ab_0    conda-forge\r\n",
      "jupyterlab_pygments       0.1.2                      py_0  \r\n",
      "jupyterlab_server         2.12.0           py39hca03da5_0  \r\n",
      "jupyterlab_widgets        1.0.0              pyhd3eb1b0_1  \r\n",
      "keras                     2.9.0                    pypi_0    pypi\r\n",
      "keras-preprocessing       1.1.2                    pypi_0    pypi\r\n",
      "kiwisolver                1.4.2            py39hc377ac9_0  \r\n",
      "krb5                      1.19.2               h3b8d789_0  \r\n",
      "lcms2                     2.12                 hba8e193_0  \r\n",
      "libblas                   3.9.0           15_osxarm64_openblas    conda-forge\r\n",
      "libbrotlicommon           1.0.9                h1a28f6b_7  \r\n",
      "libbrotlidec              1.0.9                h1a28f6b_7  \r\n",
      "libbrotlienc              1.0.9                h1a28f6b_7  \r\n",
      "libcblas                  3.9.0           15_osxarm64_openblas    conda-forge\r\n",
      "libclang                  14.0.6                   pypi_0    pypi\r\n",
      "libcurl                   7.84.0               hc6d1d07_0  \r\n",
      "libcxx                    12.0.0               hf6beb65_1  \r\n",
      "libedit                   3.1.20210910         h1a28f6b_0  \r\n",
      "libev                     4.33                 h1a28f6b_1  \r\n",
      "libffi                    3.4.2                hc377ac9_4  \r\n",
      "libgfortran               5.0.0           11_2_0_he6877d6_26  \r\n",
      "libgfortran5              11.2.0              he6877d6_26  \r\n",
      "liblapack                 3.9.0           15_osxarm64_openblas    conda-forge\r\n",
      "liblapacke                3.9.0           15_osxarm64_openblas    conda-forge\r\n",
      "libnghttp2                1.46.0               h95c9599_0  \r\n",
      "libopenblas               0.3.20          openmp_h130de29_1    conda-forge\r\n",
      "libpng                    1.6.37               hb8d0fd4_0  \r\n",
      "libsodium                 1.0.18               h1a28f6b_0  \r\n",
      "libssh2                   1.10.0               hf27765b_0  \r\n",
      "libtiff                   4.2.0                h01837e1_1  \r\n",
      "libwebp                   1.2.2                h68602c7_0  \r\n",
      "libwebp-base              1.2.2                h1a28f6b_0  \r\n",
      "llvm-openmp               14.0.4               hd125106_0    conda-forge\r\n",
      "lz4-c                     1.9.3                hc377ac9_0  \r\n",
      "markdown                  3.4.1                    pypi_0    pypi\r\n",
      "markupsafe                2.1.1            py39h1a28f6b_0  \r\n",
      "matplotlib                3.5.1            py39hca03da5_1  \r\n",
      "matplotlib-base           3.5.1            py39hc377ac9_1  \r\n",
      "matplotlib-inline         0.1.2              pyhd3eb1b0_2  \r\n",
      "mistune                   0.8.4           py39h1a28f6b_1000  \r\n",
      "munkres                   1.1.4                      py_0  \r\n",
      "nbclassic                 0.3.5              pyhd3eb1b0_0  \r\n",
      "nbclient                  0.5.13           py39hca03da5_0  \r\n",
      "nbconvert                 6.4.4            py39hca03da5_0  \r\n",
      "nbformat                  5.3.0            py39hca03da5_0  \r\n",
      "ncurses                   6.3                  h1a28f6b_3  \r\n",
      "nest-asyncio              1.5.5            py39hca03da5_0  \r\n",
      "notebook                  6.4.12           py39hca03da5_0  \r\n",
      "numpy                     1.21.5           py39h42add53_3  \r\n",
      "numpy-base                1.21.5           py39hadd41eb_3  \r\n",
      "oauthlib                  3.2.0                    pypi_0    pypi\r\n",
      "openblas                  0.3.20          openmp_h7efc2c9_1    conda-forge\r\n",
      "openssl                   1.1.1q               h1a28f6b_0  \r\n",
      "opt-einsum                3.3.0                    pypi_0    pypi\r\n",
      "packaging                 21.3               pyhd3eb1b0_0  \r\n",
      "pandocfilters             1.5.0              pyhd3eb1b0_0  \r\n",
      "parso                     0.8.3              pyhd3eb1b0_0  \r\n",
      "pexpect                   4.8.0              pyhd3eb1b0_3  \r\n",
      "pickleshare               0.7.5           pyhd3eb1b0_1003  \r\n",
      "pillow                    9.2.0            py39h4d1bdd5_1  \r\n",
      "pip                       22.1.2           py39hca03da5_0  \r\n",
      "prometheus_client         0.14.1           py39hca03da5_0  \r\n",
      "prompt-toolkit            3.0.20             pyhd3eb1b0_0  \r\n",
      "prompt_toolkit            3.0.20               hd3eb1b0_0  \r\n",
      "protobuf                  3.19.4                   pypi_0    pypi\r\n",
      "ptyprocess                0.7.0              pyhd3eb1b0_2  \r\n",
      "pure_eval                 0.2.2              pyhd3eb1b0_0  \r\n",
      "pyasn1                    0.4.8                    pypi_0    pypi\r\n",
      "pyasn1-modules            0.2.8                    pypi_0    pypi\r\n",
      "pycparser                 2.21               pyhd3eb1b0_0  \r\n",
      "pygments                  2.11.2             pyhd3eb1b0_0  \r\n",
      "pyopenssl                 22.0.0             pyhd3eb1b0_0  \r\n",
      "pyparsing                 3.0.4              pyhd3eb1b0_0  \r\n",
      "pyrsistent                0.18.0           py39h1a28f6b_0  \r\n",
      "pysocks                   1.7.1            py39hca03da5_0  \r\n",
      "python                    3.9.12               hbdb9e5c_1  \r\n",
      "python-dateutil           2.8.2              pyhd3eb1b0_0  \r\n",
      "python-fastjsonschema     2.15.1             pyhd3eb1b0_0  \r\n",
      "python_abi                3.9                      2_cp39    conda-forge\r\n",
      "pytz                      2022.1           py39hca03da5_0  \r\n",
      "pyzmq                     23.2.0           py39hc377ac9_0  \r\n",
      "readline                  8.1.2                h1a28f6b_1  \r\n",
      "requests                  2.28.1           py39hca03da5_0  \r\n",
      "requests-oauthlib         1.3.1                    pypi_0    pypi\r\n",
      "rsa                       4.9                      pypi_0    pypi\r\n",
      "send2trash                1.8.0              pyhd3eb1b0_1  \r\n",
      "setuptools                61.2.0           py39hca03da5_0  \r\n",
      "six                       1.15.0                   pypi_0    pypi\r\n",
      "sniffio                   1.2.0            py39hca03da5_1  \r\n",
      "soupsieve                 2.3.1              pyhd3eb1b0_0  \r\n",
      "sqlite                    3.39.2               h1058600_0  \r\n",
      "stack_data                0.2.0              pyhd3eb1b0_0  \r\n",
      "tensorboard               2.9.1                    pypi_0    pypi\r\n",
      "tensorboard-data-server   0.6.1                    pypi_0    pypi\r\n",
      "tensorboard-plugin-wit    1.8.1                    pypi_0    pypi\r\n",
      "tensorflow-deps           2.8.0                         0    apple\r\n",
      "tensorflow-estimator      2.9.0                    pypi_0    pypi\r\n",
      "tensorflow-macos          2.9.2                    pypi_0    pypi\r\n",
      "tensorflow-metal          0.5.0                    pypi_0    pypi\r\n",
      "termcolor                 1.1.0                    pypi_0    pypi\r\n",
      "terminado                 0.13.1           py39hca03da5_0  \r\n",
      "testpath                  0.6.0            py39hca03da5_0  \r\n",
      "tk                        8.6.12               hb8d0fd4_0  \r\n",
      "tornado                   6.1              py39h1a28f6b_0  \r\n",
      "traitlets                 5.1.1              pyhd3eb1b0_0  \r\n",
      "typing-extensions         4.3.0            py39hca03da5_0  \r\n",
      "typing_extensions         4.3.0            py39hca03da5_0  \r\n",
      "tzdata                    2022a                hda174b7_0  \r\n",
      "urllib3                   1.26.11          py39hca03da5_0  \r\n",
      "wcwidth                   0.2.5              pyhd3eb1b0_0  \r\n",
      "webencodings              0.5.1            py39hca03da5_1  \r\n",
      "websocket-client          0.58.0           py39hca03da5_4  \r\n",
      "werkzeug                  2.2.1                    pypi_0    pypi\r\n",
      "wheel                     0.37.1             pyhd3eb1b0_0  \r\n",
      "widgetsnbextension        3.5.2            py39hca03da5_0  \r\n",
      "wrapt                     1.14.1                   pypi_0    pypi\r\n",
      "xz                        5.2.5                h1a28f6b_1  \r\n",
      "zeromq                    4.3.4                hc377ac9_0  \r\n",
      "zlib                      1.2.12               h5a0b063_2  \r\n",
      "zstd                      1.5.2                h8574219_0  \r\n"
     ]
    },
    {
     "name": "stdout",
     "output_type": "stream",
     "text": [
      "\n",
      "Note: you may need to restart the kernel to use updated packages.\n"
     ]
    }
   ],
   "source": [
    "conda list\n"
   ]
  },
  {
   "cell_type": "code",
   "execution_count": 12,
   "id": "4dc753b4",
   "metadata": {},
   "outputs": [
    {
     "name": "stdout",
     "output_type": "stream",
     "text": [
      "Collecting package metadata (current_repodata.json): done\n",
      "Solving environment: - \n",
      "The environment is inconsistent, please check the package plan carefully\n",
      "The following packages are causing the inconsistency:\n",
      "\n",
      "  - conda-forge/osx-arm64::jupyter==1.0.0=py39h2804cbe_6\n",
      "  - defaults/osx-arm64::jupyter_server==1.18.1=py39hca03da5_0\n",
      "  - conda-forge/noarch::jupyterlab==3.4.4=pyhd8ed1ab_0\n",
      "  - defaults/noarch::nbclassic==0.3.5=pyhd3eb1b0_0\n",
      "  - defaults/noarch::asttokens==2.0.5=pyhd3eb1b0_0\n",
      "  - defaults/osx-arm64::nbconvert==6.4.4=py39hca03da5_0\n",
      "  - defaults/osx-arm64::ipykernel==6.9.1=py39hca03da5_0\n",
      "  - apple/osx-arm64::tensorflow-deps==2.8.0=0\n",
      "  - defaults/osx-arm64::widgetsnbextension==3.5.2=py39hca03da5_0\n",
      "  - defaults/osx-arm64::notebook==6.4.12=py39hca03da5_0\n",
      "  - defaults/noarch::python-dateutil==2.8.2=pyhd3eb1b0_0\n",
      "  - defaults/osx-arm64::ipython==8.4.0=py39hca03da5_0\n",
      "  - defaults/osx-arm64::grpcio==1.42.0=py39h95c9599_0\n",
      "  - defaults/osx-arm64::jupyter_client==7.2.2=py39hca03da5_0\n",
      "  - defaults/noarch::bleach==4.1.0=pyhd3eb1b0_0\n",
      "  - defaults/noarch::ipywidgets==7.6.5=pyhd3eb1b0_1\n",
      "  - defaults/noarch::jupyter_console==6.4.3=pyhd3eb1b0_0\n",
      "  - defaults/osx-arm64::matplotlib==3.5.1=py39hca03da5_1\n",
      "  - defaults/osx-arm64::nbclient==0.5.13=py39hca03da5_0\n",
      "  - defaults/osx-arm64::jupyterlab_server==2.12.0=py39hca03da5_0\n",
      "  - defaults/osx-arm64::matplotlib-base==3.5.1=py39hc377ac9_1\n",
      "  - defaults/osx-arm64::websocket-client==0.58.0=py39hca03da5_4\n",
      "  - defaults/noarch::stack_data==0.2.0=pyhd3eb1b0_0\n",
      "done\n",
      "\n",
      "## Package Plan ##\n",
      "\n",
      "  environment location: /Users/tedrees/miniforge3/envs/env_tf\n",
      "\n",
      "  added / updated specs:\n",
      "    - numpy\n",
      "\n",
      "\n",
      "The following NEW packages will be INSTALLED:\n",
      "\n",
      "  six                pkgs/main/noarch::six-1.16.0-pyhd3eb1b0_1\n",
      "\n",
      "\n",
      "Preparing transaction: done\n",
      "Verifying transaction: done\n",
      "Executing transaction: done\n",
      "\n",
      "Note: you may need to restart the kernel to use updated packages.\n"
     ]
    }
   ],
   "source": [
    "conda update numpy"
   ]
  },
  {
   "cell_type": "code",
   "execution_count": null,
   "id": "e9de3224",
   "metadata": {},
   "outputs": [],
   "source": []
  }
 ],
 "metadata": {
  "kernelspec": {
   "display_name": "Python 3 (ipykernel)",
   "language": "python",
   "name": "python3"
  },
  "language_info": {
   "codemirror_mode": {
    "name": "ipython",
    "version": 3
   },
   "file_extension": ".py",
   "mimetype": "text/x-python",
   "name": "python",
   "nbconvert_exporter": "python",
   "pygments_lexer": "ipython3",
   "version": "3.9.12"
  }
 },
 "nbformat": 4,
 "nbformat_minor": 5
}
